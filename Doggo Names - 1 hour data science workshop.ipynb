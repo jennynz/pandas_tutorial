{
 "cells": [
  {
   "cell_type": "markdown",
   "metadata": {},
   "source": [
    "# Doggo Names - Data Science Tutorial"
   ]
  },
  {
   "cell_type": "markdown",
   "metadata": {},
   "source": [
    "This is a one hour workshop where you can give data science a go!\n",
    "\n",
    "We will be using the [Python programming language](https://www.python.org/about/gettingstarted/), and a Python \"library\" (set of tools) called [pandas](https://pandas.pydata.org/), to analyse some data about dog registrations in Pennsylvania. Let's see what interesting insights we can get from this!\n",
    "\n",
    "Here are some resources for learning more about Python and pandas:\n",
    "- [Simon Carryer's pandas tutorial that this workshop was based off](https://github.com/SimonCarryer/pandas_tutorial)\n",
    "- [Codecademy](https://www.codecademy.com/search?query=python)\n",
    "- [Checkio](https://checkio.org/)\n",
    "- [Datacamp Intro to Python for Data Science](https://www.datacamp.com/courses/intro-to-python-for-data-science)"
   ]
  },
  {
   "cell_type": "markdown",
   "metadata": {},
   "source": [
    "The first thing we have to do is \"import\" the libraries we're going to use. We're going to import the `pandas` library, and call it `pd` for short."
   ]
  },
  {
   "cell_type": "code",
   "execution_count": 1,
   "metadata": {},
   "outputs": [],
   "source": [
    "import pandas as pd"
   ]
  },
  {
   "cell_type": "markdown",
   "metadata": {},
   "source": [
    "Now, let's use pandas (`pd` for short) to read our file of data. Pandas has a handy [read_csv](https://pandas.pydata.org/pandas-docs/stable/reference/api/pandas.read_csv.html) function to do this. We can pass it the URL of the online data, and it'll read that file into a big table called a `DataFrame`.\n",
    "It will then save it to a `variable` that we've decided to call `df`, short for `DataFrame`."
   ]
  },
  {
   "cell_type": "code",
   "execution_count": 3,
   "metadata": {},
   "outputs": [],
   "source": [
    "df = pd.read_csv('https://raw.githubusercontent.com/SimonCarryer/pandas_tutorial/master/data/dog_registrations.csv')"
   ]
  },
  {
   "cell_type": "markdown",
   "metadata": {},
   "source": [
    "Let's take a peek at what's in the data, by calling the `head` function on our DataFrame. You call functions by using round brackets."
   ]
  },
  {
   "cell_type": "code",
   "execution_count": 4,
   "metadata": {},
   "outputs": [
    {
     "data": {
      "text/html": [
       "<div>\n",
       "<style scoped>\n",
       "    .dataframe tbody tr th:only-of-type {\n",
       "        vertical-align: middle;\n",
       "    }\n",
       "\n",
       "    .dataframe tbody tr th {\n",
       "        vertical-align: top;\n",
       "    }\n",
       "\n",
       "    .dataframe thead th {\n",
       "        text-align: right;\n",
       "    }\n",
       "</style>\n",
       "<table border=\"1\" class=\"dataframe\">\n",
       "  <thead>\n",
       "    <tr style=\"text-align: right;\">\n",
       "      <th></th>\n",
       "      <th>LicenseType</th>\n",
       "      <th>Breed</th>\n",
       "      <th>Color</th>\n",
       "      <th>DogName</th>\n",
       "      <th>OwnerZip</th>\n",
       "      <th>ExpYear</th>\n",
       "      <th>ValidDate</th>\n",
       "    </tr>\n",
       "  </thead>\n",
       "  <tbody>\n",
       "    <tr>\n",
       "      <td>0</td>\n",
       "      <td>Dog Individual Female</td>\n",
       "      <td>AM PIT BULL TERRIER</td>\n",
       "      <td>SPOTTED</td>\n",
       "      <td>BUTTER</td>\n",
       "      <td>15001</td>\n",
       "      <td>2007</td>\n",
       "      <td>5/1/2007 15:15</td>\n",
       "    </tr>\n",
       "    <tr>\n",
       "      <td>1</td>\n",
       "      <td>Dog Individual Female</td>\n",
       "      <td>AM PIT BULL TERRIER</td>\n",
       "      <td>BROWN</td>\n",
       "      <td>SABLE</td>\n",
       "      <td>15001</td>\n",
       "      <td>2007</td>\n",
       "      <td>5/1/2007 15:15</td>\n",
       "    </tr>\n",
       "    <tr>\n",
       "      <td>2</td>\n",
       "      <td>Dog Individual Neutered Male</td>\n",
       "      <td>MIXED</td>\n",
       "      <td>.</td>\n",
       "      <td>YIP</td>\n",
       "      <td>15001</td>\n",
       "      <td>2007</td>\n",
       "      <td>4/11/2007 15:14</td>\n",
       "    </tr>\n",
       "    <tr>\n",
       "      <td>3</td>\n",
       "      <td>Dog Individual Male</td>\n",
       "      <td>DOBERMAN PINSCHER</td>\n",
       "      <td>RED</td>\n",
       "      <td>SABER</td>\n",
       "      <td>15003</td>\n",
       "      <td>2007</td>\n",
       "      <td>4/5/2007 15:00</td>\n",
       "    </tr>\n",
       "    <tr>\n",
       "      <td>4</td>\n",
       "      <td>Dog Individual Spayed Female</td>\n",
       "      <td>MIXED</td>\n",
       "      <td>BLACK</td>\n",
       "      <td>DAISY</td>\n",
       "      <td>15003</td>\n",
       "      <td>2007</td>\n",
       "      <td>5/25/2007 12:15</td>\n",
       "    </tr>\n",
       "  </tbody>\n",
       "</table>\n",
       "</div>"
      ],
      "text/plain": [
       "                    LicenseType                Breed    Color DogName  \\\n",
       "0         Dog Individual Female  AM PIT BULL TERRIER  SPOTTED  BUTTER   \n",
       "1         Dog Individual Female  AM PIT BULL TERRIER    BROWN   SABLE   \n",
       "2  Dog Individual Neutered Male                MIXED        .     YIP   \n",
       "3           Dog Individual Male    DOBERMAN PINSCHER      RED   SABER   \n",
       "4  Dog Individual Spayed Female                MIXED    BLACK   DAISY   \n",
       "\n",
       "   OwnerZip  ExpYear        ValidDate  \n",
       "0     15001     2007   5/1/2007 15:15  \n",
       "1     15001     2007   5/1/2007 15:15  \n",
       "2     15001     2007  4/11/2007 15:14  \n",
       "3     15003     2007   4/5/2007 15:00  \n",
       "4     15003     2007  5/25/2007 12:15  "
      ]
     },
     "execution_count": 4,
     "metadata": {},
     "output_type": "execute_result"
    }
   ],
   "source": [
    "df.head()"
   ]
  },
  {
   "cell_type": "markdown",
   "metadata": {},
   "source": [
    "## Counting & Filtering"
   ]
  },
  {
   "cell_type": "code",
   "execution_count": 23,
   "metadata": {},
   "outputs": [
    {
     "data": {
      "text/plain": [
       "MIXED                  14000\n",
       "LABRADOR RETRIEVER      8294\n",
       "LAB MIX                 5575\n",
       "GOLDEN RETRIEVER        3566\n",
       "BEAGLE                  3239\n",
       "                       ...  \n",
       "GREYHOUND SPANISH          1\n",
       "OTTERHOUND                 1\n",
       "MIN BULL TERRIER           1\n",
       "POLISH LOWLND SHEEP        1\n",
       "CATALAN SHEEPDOG           1\n",
       "Name: Breed, Length: 291, dtype: int64"
      ]
     },
     "execution_count": 23,
     "metadata": {},
     "output_type": "execute_result"
    }
   ],
   "source": [
    "df['Breed'].value_counts()"
   ]
  },
  {
   "cell_type": "markdown",
   "metadata": {},
   "source": [
    "291 breeds, and the top 5 are mixed breeds, labs, lab mixes, golden retrievers, and beagles."
   ]
  },
  {
   "cell_type": "markdown",
   "metadata": {},
   "source": [
    "What if we wanted to count the number of a specific breed? We can filter the `Breed` column for just the rows where the breed is equal to a certain breed. Let's take... the gigantic adorable [Newfoundland](https://www.akc.org/dog-breeds/newfoundland/) as an example.\n",
    "\n",
    "First, we do this neat trick where we compare an entire column with a value - in this case, the `Breed` column of `df` compared against the string `NEWFOUNDLAND`. "
   ]
  },
  {
   "cell_type": "code",
   "execution_count": 25,
   "metadata": {},
   "outputs": [
    {
     "data": {
      "text/plain": [
       "0        False\n",
       "1        False\n",
       "2        False\n",
       "3        False\n",
       "4        False\n",
       "         ...  \n",
       "97457    False\n",
       "97458    False\n",
       "97459    False\n",
       "97460    False\n",
       "97461    False\n",
       "Name: Breed, Length: 97462, dtype: bool"
      ]
     },
     "execution_count": 25,
     "metadata": {},
     "output_type": "execute_result"
    }
   ],
   "source": [
    "df['Breed'] == 'NEWFOUNDLAND'"
   ]
  },
  {
   "cell_type": "markdown",
   "metadata": {},
   "source": [
    "Then, we ask our pandas DataFrame to only give us back the rows where this comparison is true - in other words, only the rows where the `Breed` column has `NEWFOUNDLAND` in it."
   ]
  },
  {
   "cell_type": "code",
   "execution_count": 27,
   "metadata": {},
   "outputs": [
    {
     "data": {
      "text/html": [
       "<div>\n",
       "<style scoped>\n",
       "    .dataframe tbody tr th:only-of-type {\n",
       "        vertical-align: middle;\n",
       "    }\n",
       "\n",
       "    .dataframe tbody tr th {\n",
       "        vertical-align: top;\n",
       "    }\n",
       "\n",
       "    .dataframe thead th {\n",
       "        text-align: right;\n",
       "    }\n",
       "</style>\n",
       "<table border=\"1\" class=\"dataframe\">\n",
       "  <thead>\n",
       "    <tr style=\"text-align: right;\">\n",
       "      <th></th>\n",
       "      <th>LicenseType</th>\n",
       "      <th>Breed</th>\n",
       "      <th>Color</th>\n",
       "      <th>DogName</th>\n",
       "      <th>OwnerZip</th>\n",
       "      <th>ExpYear</th>\n",
       "      <th>ValidDate</th>\n",
       "    </tr>\n",
       "  </thead>\n",
       "  <tbody>\n",
       "    <tr>\n",
       "      <td>1017</td>\n",
       "      <td>Dog Individual Male</td>\n",
       "      <td>NEWFOUNDLAND</td>\n",
       "      <td>WHITE/BLACK</td>\n",
       "      <td>SAWYER</td>\n",
       "      <td>15024</td>\n",
       "      <td>2007</td>\n",
       "      <td>8/2/2007 16:09</td>\n",
       "    </tr>\n",
       "    <tr>\n",
       "      <td>1151</td>\n",
       "      <td>Dog Individual Neutered Male</td>\n",
       "      <td>NEWFOUNDLAND</td>\n",
       "      <td>WHITE/BLACK</td>\n",
       "      <td>PANDA BEAR</td>\n",
       "      <td>15025</td>\n",
       "      <td>2007</td>\n",
       "      <td>2/13/2007 11:08</td>\n",
       "    </tr>\n",
       "    <tr>\n",
       "      <td>1467</td>\n",
       "      <td>Dog Individual Male</td>\n",
       "      <td>NEWFOUNDLAND</td>\n",
       "      <td>BLACK</td>\n",
       "      <td>AMOS</td>\n",
       "      <td>15025</td>\n",
       "      <td>2007</td>\n",
       "      <td>5/16/2007 15:22</td>\n",
       "    </tr>\n",
       "    <tr>\n",
       "      <td>3293</td>\n",
       "      <td>Dog Individual Female</td>\n",
       "      <td>NEWFOUNDLAND</td>\n",
       "      <td>BLACK</td>\n",
       "      <td>BERTHA</td>\n",
       "      <td>15044</td>\n",
       "      <td>2007</td>\n",
       "      <td>8/2/2007 11:29</td>\n",
       "    </tr>\n",
       "    <tr>\n",
       "      <td>3351</td>\n",
       "      <td>Dog Individual Spayed Female</td>\n",
       "      <td>NEWFOUNDLAND</td>\n",
       "      <td>WHITE/BLACK</td>\n",
       "      <td>CHLOE</td>\n",
       "      <td>15044</td>\n",
       "      <td>2007</td>\n",
       "      <td>2/28/2007 16:06</td>\n",
       "    </tr>\n",
       "    <tr>\n",
       "      <td>...</td>\n",
       "      <td>...</td>\n",
       "      <td>...</td>\n",
       "      <td>...</td>\n",
       "      <td>...</td>\n",
       "      <td>...</td>\n",
       "      <td>...</td>\n",
       "      <td>...</td>\n",
       "    </tr>\n",
       "    <tr>\n",
       "      <td>95529</td>\n",
       "      <td>Dog Individual Spayed Female</td>\n",
       "      <td>NEWFOUNDLAND</td>\n",
       "      <td>BLACK</td>\n",
       "      <td>DAISY</td>\n",
       "      <td>15238</td>\n",
       "      <td>2009</td>\n",
       "      <td>12/9/2008 12:44</td>\n",
       "    </tr>\n",
       "    <tr>\n",
       "      <td>95809</td>\n",
       "      <td>Dog Individual Male</td>\n",
       "      <td>NEWFOUNDLAND</td>\n",
       "      <td>BLACK</td>\n",
       "      <td>BO</td>\n",
       "      <td>15239</td>\n",
       "      <td>2009</td>\n",
       "      <td>5/20/2009 14:35</td>\n",
       "    </tr>\n",
       "    <tr>\n",
       "      <td>96377</td>\n",
       "      <td>Dog Individual Neutered Male</td>\n",
       "      <td>NEWFOUNDLAND</td>\n",
       "      <td>BLACK/BROWN</td>\n",
       "      <td>MR BIG BIGGIE BOY</td>\n",
       "      <td>15239</td>\n",
       "      <td>2009</td>\n",
       "      <td>6/11/2009 13:13</td>\n",
       "    </tr>\n",
       "    <tr>\n",
       "      <td>96719</td>\n",
       "      <td>Dog Individual Male</td>\n",
       "      <td>NEWFOUNDLAND</td>\n",
       "      <td>BLACK</td>\n",
       "      <td>NORMAN G</td>\n",
       "      <td>15241</td>\n",
       "      <td>2009</td>\n",
       "      <td>6/2/2009 16:17</td>\n",
       "    </tr>\n",
       "    <tr>\n",
       "      <td>97424</td>\n",
       "      <td>Dog Individual Female</td>\n",
       "      <td>NEWFOUNDLAND</td>\n",
       "      <td>BLACK</td>\n",
       "      <td>HARRIET</td>\n",
       "      <td>16046</td>\n",
       "      <td>2009</td>\n",
       "      <td>4/27/2009 8:24</td>\n",
       "    </tr>\n",
       "  </tbody>\n",
       "</table>\n",
       "<p>227 rows × 7 columns</p>\n",
       "</div>"
      ],
      "text/plain": [
       "                        LicenseType         Breed        Color  \\\n",
       "1017            Dog Individual Male  NEWFOUNDLAND  WHITE/BLACK   \n",
       "1151   Dog Individual Neutered Male  NEWFOUNDLAND  WHITE/BLACK   \n",
       "1467            Dog Individual Male  NEWFOUNDLAND        BLACK   \n",
       "3293          Dog Individual Female  NEWFOUNDLAND        BLACK   \n",
       "3351   Dog Individual Spayed Female  NEWFOUNDLAND  WHITE/BLACK   \n",
       "...                             ...           ...          ...   \n",
       "95529  Dog Individual Spayed Female  NEWFOUNDLAND        BLACK   \n",
       "95809           Dog Individual Male  NEWFOUNDLAND        BLACK   \n",
       "96377  Dog Individual Neutered Male  NEWFOUNDLAND  BLACK/BROWN   \n",
       "96719           Dog Individual Male  NEWFOUNDLAND        BLACK   \n",
       "97424         Dog Individual Female  NEWFOUNDLAND        BLACK   \n",
       "\n",
       "                 DogName  OwnerZip  ExpYear        ValidDate  \n",
       "1017              SAWYER     15024     2007   8/2/2007 16:09  \n",
       "1151          PANDA BEAR     15025     2007  2/13/2007 11:08  \n",
       "1467                AMOS     15025     2007  5/16/2007 15:22  \n",
       "3293              BERTHA     15044     2007   8/2/2007 11:29  \n",
       "3351               CHLOE     15044     2007  2/28/2007 16:06  \n",
       "...                  ...       ...      ...              ...  \n",
       "95529              DAISY     15238     2009  12/9/2008 12:44  \n",
       "95809                 BO     15239     2009  5/20/2009 14:35  \n",
       "96377  MR BIG BIGGIE BOY     15239     2009  6/11/2009 13:13  \n",
       "96719           NORMAN G     15241     2009   6/2/2009 16:17  \n",
       "97424            HARRIET     16046     2009   4/27/2009 8:24  \n",
       "\n",
       "[227 rows x 7 columns]"
      ]
     },
     "execution_count": 27,
     "metadata": {},
     "output_type": "execute_result"
    }
   ],
   "source": [
    "df[df['Breed'] == 'NEWFOUNDLAND']"
   ]
  },
  {
   "cell_type": "markdown",
   "metadata": {},
   "source": [
    "Can I just take a moment to point out that someone called their giant Newfoundland `Mr Big Biggie Boy`?"
   ]
  },
  {
   "cell_type": "markdown",
   "metadata": {},
   "source": [
    "Okay, so back to counting up the number of Newfies in Pennsylvania. We could just look at the number of rows there, but we might want to print that answer out a bit more nicely. You can use the `count` function.\n",
    "\n",
    "If we `count` on the entire DataFrame (with all the columns), it's going to give us a count of all the columns. We could just select a random column so it only returns one column:"
   ]
  },
  {
   "cell_type": "code",
   "execution_count": 34,
   "metadata": {},
   "outputs": [
    {
     "data": {
      "text/plain": [
       "227"
      ]
     },
     "execution_count": 34,
     "metadata": {},
     "output_type": "execute_result"
    }
   ],
   "source": [
    "df[df['Breed'] == 'NEWFOUNDLAND']['LicenseType'].count()"
   ]
  },
  {
   "cell_type": "markdown",
   "metadata": {},
   "source": [
    "But this is kind of random. When coding, it's important to keep your code as clear as possible, so that when someone else comes along and reads it, they don't get confused.\n",
    "\n",
    "If you just choose one of the columns at random for the purpose of counting up rows*, it might put them off track and they start wondering, \"Huh, I wonder what license types have to do with counting the number of Newfoundlands?\"\n",
    "\n",
    "It would be clearer if we created a column that's purely used for counting. Let's add another column to this DataFrame called `row_count`, and just fill it that column with the number `1` in each row.\n",
    "\n",
    "_*It also has some other potentially unexpected behaviour that's explained in the `Grouping` section of [this original tutorial](https://github.com/SimonCarryer/pandas_tutorial/blob/master/Part%20Two%20-%20Filtering%2C%20Sorting%2C%20and%20Grouping.ipynb#Grouping)), but that's getting a bit technical so don't worry too much about that._"
   ]
  },
  {
   "cell_type": "code",
   "execution_count": 35,
   "metadata": {},
   "outputs": [],
   "source": [
    "df['row_count'] = 1"
   ]
  },
  {
   "cell_type": "code",
   "execution_count": 36,
   "metadata": {},
   "outputs": [
    {
     "data": {
      "text/html": [
       "<div>\n",
       "<style scoped>\n",
       "    .dataframe tbody tr th:only-of-type {\n",
       "        vertical-align: middle;\n",
       "    }\n",
       "\n",
       "    .dataframe tbody tr th {\n",
       "        vertical-align: top;\n",
       "    }\n",
       "\n",
       "    .dataframe thead th {\n",
       "        text-align: right;\n",
       "    }\n",
       "</style>\n",
       "<table border=\"1\" class=\"dataframe\">\n",
       "  <thead>\n",
       "    <tr style=\"text-align: right;\">\n",
       "      <th></th>\n",
       "      <th>LicenseType</th>\n",
       "      <th>Breed</th>\n",
       "      <th>Color</th>\n",
       "      <th>DogName</th>\n",
       "      <th>OwnerZip</th>\n",
       "      <th>ExpYear</th>\n",
       "      <th>ValidDate</th>\n",
       "      <th>row_count</th>\n",
       "    </tr>\n",
       "  </thead>\n",
       "  <tbody>\n",
       "    <tr>\n",
       "      <td>0</td>\n",
       "      <td>Dog Individual Female</td>\n",
       "      <td>AM PIT BULL TERRIER</td>\n",
       "      <td>SPOTTED</td>\n",
       "      <td>BUTTER</td>\n",
       "      <td>15001</td>\n",
       "      <td>2007</td>\n",
       "      <td>5/1/2007 15:15</td>\n",
       "      <td>1</td>\n",
       "    </tr>\n",
       "    <tr>\n",
       "      <td>1</td>\n",
       "      <td>Dog Individual Female</td>\n",
       "      <td>AM PIT BULL TERRIER</td>\n",
       "      <td>BROWN</td>\n",
       "      <td>SABLE</td>\n",
       "      <td>15001</td>\n",
       "      <td>2007</td>\n",
       "      <td>5/1/2007 15:15</td>\n",
       "      <td>1</td>\n",
       "    </tr>\n",
       "    <tr>\n",
       "      <td>2</td>\n",
       "      <td>Dog Individual Neutered Male</td>\n",
       "      <td>MIXED</td>\n",
       "      <td>.</td>\n",
       "      <td>YIP</td>\n",
       "      <td>15001</td>\n",
       "      <td>2007</td>\n",
       "      <td>4/11/2007 15:14</td>\n",
       "      <td>1</td>\n",
       "    </tr>\n",
       "    <tr>\n",
       "      <td>3</td>\n",
       "      <td>Dog Individual Male</td>\n",
       "      <td>DOBERMAN PINSCHER</td>\n",
       "      <td>RED</td>\n",
       "      <td>SABER</td>\n",
       "      <td>15003</td>\n",
       "      <td>2007</td>\n",
       "      <td>4/5/2007 15:00</td>\n",
       "      <td>1</td>\n",
       "    </tr>\n",
       "    <tr>\n",
       "      <td>4</td>\n",
       "      <td>Dog Individual Spayed Female</td>\n",
       "      <td>MIXED</td>\n",
       "      <td>BLACK</td>\n",
       "      <td>DAISY</td>\n",
       "      <td>15003</td>\n",
       "      <td>2007</td>\n",
       "      <td>5/25/2007 12:15</td>\n",
       "      <td>1</td>\n",
       "    </tr>\n",
       "  </tbody>\n",
       "</table>\n",
       "</div>"
      ],
      "text/plain": [
       "                    LicenseType                Breed    Color DogName  \\\n",
       "0         Dog Individual Female  AM PIT BULL TERRIER  SPOTTED  BUTTER   \n",
       "1         Dog Individual Female  AM PIT BULL TERRIER    BROWN   SABLE   \n",
       "2  Dog Individual Neutered Male                MIXED        .     YIP   \n",
       "3           Dog Individual Male    DOBERMAN PINSCHER      RED   SABER   \n",
       "4  Dog Individual Spayed Female                MIXED    BLACK   DAISY   \n",
       "\n",
       "   OwnerZip  ExpYear        ValidDate  row_count  \n",
       "0     15001     2007   5/1/2007 15:15          1  \n",
       "1     15001     2007   5/1/2007 15:15          1  \n",
       "2     15001     2007  4/11/2007 15:14          1  \n",
       "3     15003     2007   4/5/2007 15:00          1  \n",
       "4     15003     2007  5/25/2007 12:15          1  "
      ]
     },
     "execution_count": 36,
     "metadata": {},
     "output_type": "execute_result"
    }
   ],
   "source": [
    "df.head()"
   ]
  },
  {
   "cell_type": "markdown",
   "metadata": {},
   "source": [
    "Now we can explicitly select the `row_count` column when counting up the dog registrations with `NEWFOUNDLAND` as the breed."
   ]
  },
  {
   "cell_type": "code",
   "execution_count": 38,
   "metadata": {},
   "outputs": [
    {
     "data": {
      "text/plain": [
       "227"
      ]
     },
     "execution_count": 38,
     "metadata": {},
     "output_type": "execute_result"
    }
   ],
   "source": [
    "df[df['Breed'] == 'NEWFOUNDLAND']['row_count'].count()"
   ]
  },
  {
   "cell_type": "markdown",
   "metadata": {},
   "source": [
    "Make it even prettier? Save the count to a new variable (called something like `number_of_newfies` or whatever), and use the `print` function to include that number in a nicely `f`ormatted sentence!"
   ]
  },
  {
   "cell_type": "code",
   "execution_count": 41,
   "metadata": {},
   "outputs": [
    {
     "name": "stdout",
     "output_type": "stream",
     "text": [
      "The number of newfies in Pennsylvania is 227!\n"
     ]
    }
   ],
   "source": [
    "number_of_newfies = df[df['Breed'] == 'NEWFOUNDLAND']['row_count'].count()\n",
    "print(f'The number of newfies in Pennsylvania is {number_of_newfies}!')"
   ]
  },
  {
   "cell_type": "markdown",
   "metadata": {},
   "source": [
    "### Problem 1: Counting & Filtering\n",
    "\n",
    "We've just learnt how to count and filter the rows of a pandas DataFrame, using the example of different dog breeds. Give it a go with colours.\n",
    "\n",
    "- What is the most common dog colour?\n",
    "- How many `SPOTTED` dogs are in this dataset?"
   ]
  },
  {
   "cell_type": "code",
   "execution_count": 61,
   "metadata": {},
   "outputs": [
    {
     "data": {
      "text/plain": [
       "BLACK                   15916\n",
       "BROWN                   11920\n",
       "WHITE                    7673\n",
       "WHITE/BLACK              7489\n",
       "BLACK/BROWN              7289\n",
       "                        ...  \n",
       "BLACK/MERLE                 5\n",
       "BROWN/ORANGE                5\n",
       "BLACK/ORANGE                5\n",
       "BLACK/ORANGE/BRINDLE        4\n",
       "WHITE/MERLE                 2\n",
       "Name: Color, Length: 80, dtype: int64"
      ]
     },
     "execution_count": 61,
     "metadata": {},
     "output_type": "execute_result"
    }
   ],
   "source": [
    "df['Color'].value_counts()"
   ]
  },
  {
   "cell_type": "markdown",
   "metadata": {},
   "source": [
    "Black is the most common dog colour."
   ]
  },
  {
   "cell_type": "code",
   "execution_count": 63,
   "metadata": {},
   "outputs": [
    {
     "name": "stdout",
     "output_type": "stream",
     "text": [
      "There are 4637 spotted dogs in the dataset.\n"
     ]
    }
   ],
   "source": [
    "num_spotted_dogs = df[df['Color'] == 'SPOTTED']['row_count'].count()\n",
    "print(f'There are {num_spotted_dogs} spotted dogs in the dataset.')"
   ]
  },
  {
   "cell_type": "markdown",
   "metadata": {},
   "source": [
    "## Graphs\n",
    "\n",
    "So counting things is handy and all, but how can we think about presenting this information in a fun, visually appealing way?\n",
    "\n",
    "Python has a handy library called [seaborn](https://seaborn.pydata.org/)"
   ]
  },
  {
   "cell_type": "code",
   "execution_count": null,
   "metadata": {},
   "outputs": [],
   "source": []
  },
  {
   "cell_type": "code",
   "execution_count": null,
   "metadata": {},
   "outputs": [],
   "source": []
  },
  {
   "cell_type": "code",
   "execution_count": null,
   "metadata": {},
   "outputs": [],
   "source": []
  },
  {
   "cell_type": "code",
   "execution_count": null,
   "metadata": {},
   "outputs": [],
   "source": []
  },
  {
   "cell_type": "markdown",
   "metadata": {},
   "source": [
    "Hey look! Data! Our `DataFrame` contains some information about dog registrations in Pennsylvania, including some things like the dog name and breed.\n",
    "\n",
    "One of the most common things you'll want to do with a DataFrame is pull out a single row or column, maybe to do some calculation with it (in the case of numeric data) or maybe to count values (for categoricals). Let's look at how to access parts of a DataFrame."
   ]
  },
  {
   "cell_type": "markdown",
   "metadata": {},
   "source": [
    "## Accessing Columns\n",
    "\n",
    "There are a few different ways of accessing columns in a DataFrame, but the easiest way (in my opinion) is to use the `__getitem__` function, which has a convenient shorthand notation using square brackets."
   ]
  },
  {
   "cell_type": "code",
   "execution_count": 4,
   "metadata": {
    "scrolled": true
   },
   "outputs": [
    {
     "data": {
      "text/plain": [
       "0    AM PIT BULL TERRIER\n",
       "1    AM PIT BULL TERRIER\n",
       "2                  MIXED\n",
       "3      DOBERMAN PINSCHER\n",
       "4                  MIXED\n",
       "Name: Breed, dtype: object"
      ]
     },
     "execution_count": 4,
     "metadata": {},
     "output_type": "execute_result"
    }
   ],
   "source": [
    "df['Breed'].head()"
   ]
  },
  {
   "cell_type": "markdown",
   "metadata": {},
   "source": [
    "You'll see that we're using the `head` function again to see just the first 5 rows of the DataFrame (if you want more than 5 rows, you can just pass the number you want in the brackets after the `head` like `.head(10)`.\n",
    "\n",
    "It's useful to remember that the above code is shorthand for calling the secret `__getitem__` funtion - it's a quicker and clearer way of writing `df.__getitem__('Breed')`. Under the hood, they're doing the same thing, which is looking for a \"Breed\" attribute in the `df` object, and returning it. You can also access the attribute directly, with `df.Breed`, but this is a bit risky, because there are some \"reserved\" terms which will give you unexpected results.\n",
    "\n",
    "You can also use a list of column names."
   ]
  },
  {
   "cell_type": "code",
   "execution_count": 5,
   "metadata": {
    "scrolled": true
   },
   "outputs": [
    {
     "data": {
      "text/html": [
       "<div>\n",
       "<style scoped>\n",
       "    .dataframe tbody tr th:only-of-type {\n",
       "        vertical-align: middle;\n",
       "    }\n",
       "\n",
       "    .dataframe tbody tr th {\n",
       "        vertical-align: top;\n",
       "    }\n",
       "\n",
       "    .dataframe thead th {\n",
       "        text-align: right;\n",
       "    }\n",
       "</style>\n",
       "<table border=\"1\" class=\"dataframe\">\n",
       "  <thead>\n",
       "    <tr style=\"text-align: right;\">\n",
       "      <th></th>\n",
       "      <th>Breed</th>\n",
       "      <th>ExpYear</th>\n",
       "    </tr>\n",
       "  </thead>\n",
       "  <tbody>\n",
       "    <tr>\n",
       "      <th>0</th>\n",
       "      <td>AM PIT BULL TERRIER</td>\n",
       "      <td>2007</td>\n",
       "    </tr>\n",
       "    <tr>\n",
       "      <th>1</th>\n",
       "      <td>AM PIT BULL TERRIER</td>\n",
       "      <td>2007</td>\n",
       "    </tr>\n",
       "    <tr>\n",
       "      <th>2</th>\n",
       "      <td>MIXED</td>\n",
       "      <td>2007</td>\n",
       "    </tr>\n",
       "    <tr>\n",
       "      <th>3</th>\n",
       "      <td>DOBERMAN PINSCHER</td>\n",
       "      <td>2007</td>\n",
       "    </tr>\n",
       "    <tr>\n",
       "      <th>4</th>\n",
       "      <td>MIXED</td>\n",
       "      <td>2007</td>\n",
       "    </tr>\n",
       "  </tbody>\n",
       "</table>\n",
       "</div>"
      ],
      "text/plain": [
       "                 Breed  ExpYear\n",
       "0  AM PIT BULL TERRIER     2007\n",
       "1  AM PIT BULL TERRIER     2007\n",
       "2                MIXED     2007\n",
       "3    DOBERMAN PINSCHER     2007\n",
       "4                MIXED     2007"
      ]
     },
     "execution_count": 5,
     "metadata": {},
     "output_type": "execute_result"
    }
   ],
   "source": [
    "df[['Breed', 'ExpYear']].head()"
   ]
  },
  {
   "cell_type": "markdown",
   "metadata": {},
   "source": [
    "### Problem One\n",
    "\n",
    "In the cell below:\n",
    "* Show the values in the \"Color\" column.\n",
    "* Show the values in the \"LicenseType\" and \"Breed\" columns.\n",
    "* show the first 20 values in the \"Breed\" column."
   ]
  },
  {
   "cell_type": "code",
   "execution_count": null,
   "metadata": {},
   "outputs": [],
   "source": []
  },
  {
   "cell_type": "markdown",
   "metadata": {},
   "source": [
    "## Accessing Rows\n",
    "\n",
    "You can access rows in a DataFrame the same way you can access columns, but the syntax is a little different. The first and simplest way is to get data by its row number, using the `iloc` function, like this:"
   ]
  },
  {
   "cell_type": "code",
   "execution_count": 6,
   "metadata": {},
   "outputs": [
    {
     "data": {
      "text/plain": [
       "LicenseType    Dog Individual Male\n",
       "Breed            DOBERMAN PINSCHER\n",
       "Color                          RED\n",
       "DogName                      SABER\n",
       "OwnerZip                     15003\n",
       "ExpYear                       2007\n",
       "ValidDate           4/5/2007 15:00\n",
       "Name: 3, dtype: object"
      ]
     },
     "execution_count": 6,
     "metadata": {},
     "output_type": "execute_result"
    }
   ],
   "source": [
    "df.iloc[3]"
   ]
  },
  {
   "cell_type": "markdown",
   "metadata": {},
   "source": [
    "Just like for getting columns, this is a shorthand for the secret `__getitem__` function that belongs to the `iloc` object. It may seem a bit pedantic to keep going on about these secret functions, but it's useful to remember later on, when you're doing more complex stuff and the notation is confusing.\n",
    "\n",
    "`iloc` can also get a range of rows, like this:"
   ]
  },
  {
   "cell_type": "code",
   "execution_count": 7,
   "metadata": {},
   "outputs": [
    {
     "data": {
      "text/html": [
       "<div>\n",
       "<style scoped>\n",
       "    .dataframe tbody tr th:only-of-type {\n",
       "        vertical-align: middle;\n",
       "    }\n",
       "\n",
       "    .dataframe tbody tr th {\n",
       "        vertical-align: top;\n",
       "    }\n",
       "\n",
       "    .dataframe thead th {\n",
       "        text-align: right;\n",
       "    }\n",
       "</style>\n",
       "<table border=\"1\" class=\"dataframe\">\n",
       "  <thead>\n",
       "    <tr style=\"text-align: right;\">\n",
       "      <th></th>\n",
       "      <th>LicenseType</th>\n",
       "      <th>Breed</th>\n",
       "      <th>Color</th>\n",
       "      <th>DogName</th>\n",
       "      <th>OwnerZip</th>\n",
       "      <th>ExpYear</th>\n",
       "      <th>ValidDate</th>\n",
       "    </tr>\n",
       "  </thead>\n",
       "  <tbody>\n",
       "    <tr>\n",
       "      <th>4</th>\n",
       "      <td>Dog Individual Spayed Female</td>\n",
       "      <td>MIXED</td>\n",
       "      <td>BLACK</td>\n",
       "      <td>DAISY</td>\n",
       "      <td>15003</td>\n",
       "      <td>2007</td>\n",
       "      <td>5/25/2007 12:15</td>\n",
       "    </tr>\n",
       "    <tr>\n",
       "      <th>5</th>\n",
       "      <td>Dog Individual Neutered Male</td>\n",
       "      <td>MIXED</td>\n",
       "      <td>SPOTTED</td>\n",
       "      <td>SCOOTER</td>\n",
       "      <td>15003</td>\n",
       "      <td>2007</td>\n",
       "      <td>6/19/2007 12:13</td>\n",
       "    </tr>\n",
       "    <tr>\n",
       "      <th>6</th>\n",
       "      <td>Dog Individual Spayed Female</td>\n",
       "      <td>RAT TERRIER</td>\n",
       "      <td>MULTI</td>\n",
       "      <td>TINKY</td>\n",
       "      <td>15003</td>\n",
       "      <td>2007</td>\n",
       "      <td>7/13/2007 13:35</td>\n",
       "    </tr>\n",
       "    <tr>\n",
       "      <th>7</th>\n",
       "      <td>Dog Individual Female</td>\n",
       "      <td>GER SHEPHERD</td>\n",
       "      <td>BLACK/BROWN</td>\n",
       "      <td>AMICA</td>\n",
       "      <td>15003</td>\n",
       "      <td>2007</td>\n",
       "      <td>2/27/2007 11:52</td>\n",
       "    </tr>\n",
       "    <tr>\n",
       "      <th>8</th>\n",
       "      <td>Dog Senior Citizen or Disability Spayed Female</td>\n",
       "      <td>POMERANIAN</td>\n",
       "      <td>TAN</td>\n",
       "      <td>TAFFY</td>\n",
       "      <td>15003</td>\n",
       "      <td>2007</td>\n",
       "      <td>3/12/2007 15:57</td>\n",
       "    </tr>\n",
       "  </tbody>\n",
       "</table>\n",
       "</div>"
      ],
      "text/plain": [
       "                                      LicenseType         Breed        Color  \\\n",
       "4                    Dog Individual Spayed Female         MIXED        BLACK   \n",
       "5                    Dog Individual Neutered Male         MIXED      SPOTTED   \n",
       "6                    Dog Individual Spayed Female   RAT TERRIER        MULTI   \n",
       "7                           Dog Individual Female  GER SHEPHERD  BLACK/BROWN   \n",
       "8  Dog Senior Citizen or Disability Spayed Female    POMERANIAN          TAN   \n",
       "\n",
       "   DogName  OwnerZip  ExpYear        ValidDate  \n",
       "4    DAISY     15003     2007  5/25/2007 12:15  \n",
       "5  SCOOTER     15003     2007  6/19/2007 12:13  \n",
       "6    TINKY     15003     2007  7/13/2007 13:35  \n",
       "7    AMICA     15003     2007  2/27/2007 11:52  \n",
       "8    TAFFY     15003     2007  3/12/2007 15:57  "
      ]
     },
     "execution_count": 7,
     "metadata": {},
     "output_type": "execute_result"
    }
   ],
   "source": [
    "df.iloc[4:9]"
   ]
  },
  {
   "cell_type": "markdown",
   "metadata": {},
   "source": [
    "Notice how what is returned when we asked for one row looks quite different than what was returned when we asked for many? This is one of the annoying things in Pandas. Depending on if you ask for one row or many, it will return a different kind of object. The first one is a `Series`, and the second one is a \"slice\" of a `DataFrame`. This leads to all kinds of complex problems, which we'll get into more later.\n",
    "\n",
    "One way you can get around this is by always using a list when you ask for specific rows. That ensures that even if there's only one item in your list, you'll still be returned a `DataFrame`, not a `Series`."
   ]
  },
  {
   "cell_type": "code",
   "execution_count": 8,
   "metadata": {},
   "outputs": [
    {
     "data": {
      "text/html": [
       "<div>\n",
       "<style scoped>\n",
       "    .dataframe tbody tr th:only-of-type {\n",
       "        vertical-align: middle;\n",
       "    }\n",
       "\n",
       "    .dataframe tbody tr th {\n",
       "        vertical-align: top;\n",
       "    }\n",
       "\n",
       "    .dataframe thead th {\n",
       "        text-align: right;\n",
       "    }\n",
       "</style>\n",
       "<table border=\"1\" class=\"dataframe\">\n",
       "  <thead>\n",
       "    <tr style=\"text-align: right;\">\n",
       "      <th></th>\n",
       "      <th>LicenseType</th>\n",
       "      <th>Breed</th>\n",
       "      <th>Color</th>\n",
       "      <th>DogName</th>\n",
       "      <th>OwnerZip</th>\n",
       "      <th>ExpYear</th>\n",
       "      <th>ValidDate</th>\n",
       "    </tr>\n",
       "  </thead>\n",
       "  <tbody>\n",
       "    <tr>\n",
       "      <th>3</th>\n",
       "      <td>Dog Individual Male</td>\n",
       "      <td>DOBERMAN PINSCHER</td>\n",
       "      <td>RED</td>\n",
       "      <td>SABER</td>\n",
       "      <td>15003</td>\n",
       "      <td>2007</td>\n",
       "      <td>4/5/2007 15:00</td>\n",
       "    </tr>\n",
       "  </tbody>\n",
       "</table>\n",
       "</div>"
      ],
      "text/plain": [
       "           LicenseType              Breed Color DogName  OwnerZip  ExpYear  \\\n",
       "3  Dog Individual Male  DOBERMAN PINSCHER   RED   SABER     15003     2007   \n",
       "\n",
       "        ValidDate  \n",
       "3  4/5/2007 15:00  "
      ]
     },
     "execution_count": 8,
     "metadata": {},
     "output_type": "execute_result"
    }
   ],
   "source": [
    "df.iloc[[3]]"
   ]
  },
  {
   "cell_type": "markdown",
   "metadata": {},
   "source": [
    "There's one more way to access rows in DataFrames, and it's called `loc`. This may sound similar to `iloc`, but it's a bit different. We won't go into it right now though."
   ]
  },
  {
   "cell_type": "markdown",
   "metadata": {},
   "source": [
    "### Problem Two\n",
    "\n",
    "In the cell below:\n",
    "* Return the 18th row (as a DataFrame, not a Series)\n",
    "* Return the 20th to 30th rows\n",
    "* EXTRA FOR EXPERTS: Return the 4th, 7th, and 10th rows"
   ]
  },
  {
   "cell_type": "code",
   "execution_count": null,
   "metadata": {},
   "outputs": [],
   "source": []
  },
  {
   "cell_type": "markdown",
   "metadata": {},
   "source": [
    "## Operations on Columns\n",
    "\n",
    "Now we know how to access data in rows or columns. Now let's do some things with that data!\n",
    "\n",
    "Let's pull out a column of data into its own variable:"
   ]
  },
  {
   "cell_type": "code",
   "execution_count": 9,
   "metadata": {},
   "outputs": [],
   "source": [
    "breeds = df['Breed']"
   ]
  },
  {
   "cell_type": "markdown",
   "metadata": {},
   "source": [
    "`breeds` is a `Series` object. Each row and column in a Pandas DataFrame is a Series, and when you operate on a single row or column, you get access to the functions and attributes of the Series class, not the DataFrame class. That's often very useful, and sometimes a bit annoying.\n",
    "\n",
    "Let's have a look at some useful Series functions:"
   ]
  },
  {
   "cell_type": "code",
   "execution_count": 10,
   "metadata": {
    "scrolled": true
   },
   "outputs": [
    {
     "data": {
      "text/plain": [
       "array(['AM PIT BULL TERRIER', 'MIXED', 'DOBERMAN PINSCHER', 'RAT TERRIER',\n",
       "       'GER SHEPHERD', 'POMERANIAN', 'BEAGLE', 'AM ESKIMO DOG',\n",
       "       'COLLIE MIX', 'SIB HUSKY', 'BOXER', 'AUS SHEPHERD',\n",
       "       'CHIHUAHUA MIX', 'BOXER MIX', 'SILKY TERRIER', 'SHIH TZU',\n",
       "       'MIN PINSCHER', 'TERRIER', 'DACHSHUND', 'BICHON FRISE',\n",
       "       'LABRADOR RETRIEVER', 'LAB MIX', 'PARSON RUSSELL TERR',\n",
       "       'BRITTANY SPANIEL', 'POODLE TOY', 'POODLE MIN', 'BORD COLLIE MIX',\n",
       "       'CHIHUAHUA', 'GOLDEN RETRIEVER', 'ENG SPRINGER SPANIE',\n",
       "       'LHASA APSO', 'BEARDED COLLIE', 'LLEWELLIN SETTER', 'LABRADOODLE',\n",
       "       'AKITA', 'TAG', 'ROTTWEILER', 'LHASA APSO MIX', 'COCKER SPANIEL',\n",
       "       'GER SHEPHERD MIX', 'SIB HUSKY MIX', 'YORKSHIRE TERR MIX',\n",
       "       'ENG BULLDOG', 'DACHSHUND MIX', 'YORKSHIRE TERRIER', 'POINTER',\n",
       "       'COCKAPOO', 'ENG SETTER', 'SCHNAUZER STANDARD',\n",
       "       'SHETLAND SHEEPDOG', 'KEESHOND', 'BASSET HOUND',\n",
       "       'ITALIAN GREYHOUND', 'BOUVIER DES FLANDRE', 'PUG',\n",
       "       'POODLE STANDARD', 'ROTTWEILER MIX', 'GOLDEN RETRIEV MIX',\n",
       "       'BORD COLLIE', 'SHIBA INU', 'FOX TERRIER TOY', 'POODLE MIX',\n",
       "       'GER SHORTHAIR POINT', 'TERRIER MIX', 'PAPILLON',\n",
       "       'AIREDALE TERRIER', 'BEAGLE MIX', 'GREAT DANE', 'DALMATION MIX',\n",
       "       'BOSTON TERRIER', 'GREAT PYRENEES', 'SHEPHERD MIX', 'GREYHOUND',\n",
       "       'BULL TERRIER', 'WELSH CORGI CARDIGA', 'ST BERNARD', 'WEIMARANER',\n",
       "       'CAIRN TERRIER', 'GOLDENDOODLE', 'BULLDOG', 'MALTESE MIX',\n",
       "       'MALTESE', 'DALMATIAN', 'PEEKAPOO', 'W HGHLND WH TERRIER',\n",
       "       'BERNESE MTN DOG', 'FRENCH BULLDOG', 'BISHON FRISE MIX',\n",
       "       'AM PITT BULL MIX', 'COLLIE', 'ENGLISH MASTIFF',\n",
       "       'MANCHESTER TERRIER', 'MASTIFF', 'SFT COAT WHEAT TERR',\n",
       "       'COCKER SPANIEL MIX', 'CHOW CHOW MIX', 'CHINESE SHAR-PEI',\n",
       "       'GREAT DANE MIX', 'DOGUE DE BORDEAUX', 'KERRY BLUE TERRIER',\n",
       "       'SCHNAUZER MIN', 'PEKINGESE', 'SHELTAND SHEEPDOG', 'HOUND MIX',\n",
       "       '.', 'STAFFORDSHIRE TERRI', 'CAV KING CHAR SPANI', 'JAPANESE CHIN',\n",
       "       'BULLMASTIFF', 'ENG COCKER SPANIEL', 'BLUE HEELER',\n",
       "       'SCHNAUZER GIANT', 'SAMOYED', 'ARGENTINO DOGO', 'ALAS MALAMUTE',\n",
       "       'AFGHAN HOUND', 'NEWFOUNDLAND', 'RHODESIAN RIDGEBACK',\n",
       "       'DOBERMAN MIX', 'POODLE MED', 'WELSH CORGI PEMBROK',\n",
       "       'AUS CATTLE DOG', 'RETRIEVER MIX', 'SHETLAND SHEEP MIX',\n",
       "       'BORDER TERRIER', 'DINGO', 'BLACK&TAN COONHOUND',\n",
       "       'BRUSSELS GRIFFON', 'BLUETICK COONHOUND', 'PLOTT HOUND',\n",
       "       'AM STAFF TERRIER', 'CHES BAY RETRIEVER', 'CHINESE CRESTED',\n",
       "       'AM BULLDOG', 'AKITA MIX', 'WELSH TERRIER', 'WIREHAIR PT GRIFFON',\n",
       "       'CHOW CHOW', 'SHIH TZU MIX', 'ORI PEI', 'COTON DE TULEAR',\n",
       "       'GR SWISS MTN DOG', 'BASENJI', 'BELG TERVUREN', 'POMERANIAN MIX',\n",
       "       'SCHIPPERKE', 'SCOTTISH TERRIER', 'BELG MALINOIS', 'BORZOI',\n",
       "       'OTHER', 'BLOODHOUND', 'IRISH SETTER', 'ENG POINTER', 'CANE CORSO',\n",
       "       'AUS KELPIE', 'CHINESE FOO DOG', 'FLAT COATED RETRIEV', 'VIZSLA',\n",
       "       'PORTUGESE WATER DOG', 'BLACKMOUTH CUR', 'OLD ENG BULLDOG',\n",
       "       'BOYKIN SPANIEL', 'IRISH WOLFHOUND', 'TERRIER BRASILEIRO',\n",
       "       'ENG SHEPHERD', 'SCHNOODLE', 'GER WIREHAIR POINTE',\n",
       "       'MUNSTERLANDER SMALL', 'HAVANESE', 'FOX TERRIER WIRE',\n",
       "       'OLD ENG SHEEPDOG', 'FOX TERRIER SMOOTH', 'PYRENEAN MASTIFF',\n",
       "       'REDTICK COONHOUND', 'HALLS HEELER', 'PATTERDALE TERRIER',\n",
       "       'GORDON SETTER', 'REDBONE COONHOUND', 'AM TOY TERRIER',\n",
       "       'BELG SHEPHERD', 'WHIPPET', 'PUGGLE', 'TOY FOX TERIER', 'LOWCHEN',\n",
       "       'AM BLACK&TAN COONHO', 'ENG COONHOUND', 'BASSET HOUND MIX',\n",
       "       'TREE WALK COONHOUND', 'SPINONE ITALIANO', 'ENG TOY SPANIEL',\n",
       "       'IRISH TERRIER', 'FILA BRASILEIRO', 'LAKELAND TERRIER',\n",
       "       'JACK RUSSEL TERRIER', 'NORW ELKHOUND', 'TIBETAN TERRIER',\n",
       "       'WELSH SPRINGER SPAN', 'AM WATER SPANIEL', 'AM FOXHOUND', 'PUPPY',\n",
       "       'CATAHOULA LEOPARD D', 'NORFOLK TERRIER', 'MI-KI',\n",
       "       'BRIARD SHEEPDOG', 'MORKIE', 'NORWICH TERRIER',\n",
       "       'NEAPOLITAN MASTIFF', 'ENG FOXHOUND', 'AINU', 'ANATOLIAN SHEPHERD',\n",
       "       'PULI', 'NOVA SCOTIA DUCK TO', 'ALAPAHA BLUE BULLDO',\n",
       "       'AUS TERRIER', 'TIBETAN SPANIEL', 'CANNAN DOG',\n",
       "       'PORT WIREHAIR PODENG', 'BELG SHEEPDOG', 'FIELD SPANIEL',\n",
       "       'ALASKAN SHEPHERD', 'CLUMBER SPANIEL', 'LEONBERGER', 'SARPLANINAC',\n",
       "       'LAGOTTO TOMAGNOLO', 'SKYE TERRIER', 'SHILOH GER SHEPHERD',\n",
       "       'QUEENSLAND HEELER', 'CAROLINA DOG', 'MASTIFF TIBETAN',\n",
       "       'MAREMMA ABBRUZE', 'BELG LAEKENOIS', 'ENTLEBUCHER SENNEN',\n",
       "       'PRESA CANARIO', 'PETIT BASSET GRIFFO', 'FRENCH SPANIEL',\n",
       "       'GLEN OF IMAAL TERRI', 'ICELAND DOG', 'SUSSEX SPANIEL',\n",
       "       'CURLY COATED RETRIE', 'JINDO', 'AFFENPINSCHER', 'GER SPITZ',\n",
       "       'JAPANESE SPITZ', 'BEAGLE HARRIER', 'KOMONDOR',\n",
       "       'STUMPY TAIL CATTLE DO', 'BRAQUE DU BOURBONNA', 'PHARAOH HOUND',\n",
       "       'BRAQUE FRANCAIS', 'TRANSYLVANIAN HOUND', 'SALUKI', 'GER PINSCHER',\n",
       "       'MULLINS FEIST', 'DANDIE DINMONT TERR', 'MOUNTAIN CUR', 'BOERBOEL',\n",
       "       'MIN AUS SHEPHERD', 'PRESSA MALLORQUIN', 'IRISH WATER SPANIEL',\n",
       "       'CAUCASIAN OVTCHARKA', 'PERRO DE PRESA CANA',\n",
       "       'W SHEPHERD /GER SHEPH', 'KUVASZ', 'ALAS KLEE KAI', 'OTTERHOUND',\n",
       "       'MALTI-POO', 'DUTCH SHEPHERD', 'FEIST TREEING',\n",
       "       'IRISH RED&WHITE SET', 'BOLOGNESE', 'CATALAN SHEEPDOG',\n",
       "       'MASTIFF SPANISH', 'THAI RIDGEBACK', 'POLISH LOWLND SHEEP',\n",
       "       'GER LONGHAIR POINT', 'BEDLINGTON TERRIER', 'ENG TOY TERRIER',\n",
       "       'W SIBERIAN LAIKA', 'MIN BULL TERRIER', 'PYRENEAN SHEPHERD',\n",
       "       'EURASIAN', 'CHINOOK', 'XOLOITZCUINTLI', 'SEALYHAM TERRIER',\n",
       "       'POLISH TATRA SHEEPDO', 'FINNISH SPITZ', 'TREEING CUR',\n",
       "       'GRAND GRIFFON VENDE', 'GREYHOUND SPANISH', 'BRACCO ITALIANO',\n",
       "       'CRENTSE PARTRIDGE D'], dtype=object)"
      ]
     },
     "execution_count": 10,
     "metadata": {},
     "output_type": "execute_result"
    }
   ],
   "source": [
    "breeds.unique()"
   ]
  },
  {
   "cell_type": "code",
   "execution_count": 11,
   "metadata": {},
   "outputs": [
    {
     "data": {
      "text/plain": [
       "97462"
      ]
     },
     "execution_count": 11,
     "metadata": {},
     "output_type": "execute_result"
    }
   ],
   "source": [
    "breeds.count()"
   ]
  },
  {
   "cell_type": "code",
   "execution_count": 12,
   "metadata": {
    "scrolled": true
   },
   "outputs": [
    {
     "data": {
      "text/plain": [
       "MIXED                    14000\n",
       "LABRADOR RETRIEVER        8294\n",
       "LAB MIX                   5575\n",
       "GOLDEN RETRIEVER          3566\n",
       "BEAGLE                    3239\n",
       "GER SHEPHERD              2969\n",
       "AM PIT BULL TERRIER       2969\n",
       "SHIH TZU                  2249\n",
       "BOXER                     2130\n",
       "GER SHEPHERD MIX          2105\n",
       "CHIHUAHUA                 1862\n",
       "DACHSHUND                 1852\n",
       "YORKSHIRE TERRIER         1700\n",
       "BEAGLE MIX                1484\n",
       "COCKER SPANIEL            1449\n",
       "PUG                       1345\n",
       "ROTTWEILER                1281\n",
       "PARSON RUSSELL TERR       1225\n",
       "BICHON FRISE              1154\n",
       "SHETLAND SHEEPDOG         1103\n",
       "MALTESE                   1045\n",
       "SIB HUSKY                 1025\n",
       "TERRIER MIX                956\n",
       "POMERANIAN                 843\n",
       "AM PITT BULL MIX           751\n",
       "SCHNAUZER MIN              723\n",
       "DOBERMAN PINSCHER          716\n",
       "BOSTON TERRIER             715\n",
       "COCKAPOO                   708\n",
       "BORD COLLIE                670\n",
       "                         ...  \n",
       "W SHEPHERD /GER SHEPH        1\n",
       "OTTERHOUND                   1\n",
       "ALASKAN SHEPHERD             1\n",
       "MIN BULL TERRIER             1\n",
       "PERRO DE PRESA CANA          1\n",
       "ALAPAHA BLUE BULLDO          1\n",
       "W SIBERIAN LAIKA             1\n",
       "XOLOITZCUINTLI               1\n",
       "BEAGLE HARRIER               1\n",
       "PYRENEAN MASTIFF             1\n",
       "CATALAN SHEEPDOG             1\n",
       "TREEING CUR                  1\n",
       "PRESSA MALLORQUIN            1\n",
       "POLISH TATRA SHEEPDO         1\n",
       "PORT WIREHAIR PODENG         1\n",
       "CRENTSE PARTRIDGE D          1\n",
       "BRACCO ITALIANO              1\n",
       "GREYHOUND SPANISH            1\n",
       "PUPPY                        1\n",
       "JINDO                        1\n",
       "PYRENEAN SHEPHERD            1\n",
       "CHINOOK                      1\n",
       "FINNISH SPITZ                1\n",
       "BELG LAEKENOIS               1\n",
       "THAI RIDGEBACK               1\n",
       "MULLINS FEIST                1\n",
       "TRANSYLVANIAN HOUND          1\n",
       "SEALYHAM TERRIER             1\n",
       "PHARAOH HOUND                1\n",
       "MASTIFF SPANISH              1\n",
       "Name: Breed, Length: 291, dtype: int64"
      ]
     },
     "execution_count": 12,
     "metadata": {},
     "output_type": "execute_result"
    }
   ],
   "source": [
    "breeds.value_counts()"
   ]
  },
  {
   "cell_type": "markdown",
   "metadata": {},
   "source": [
    "That last one looks super useful! It counts the rows for each unique value in the column. Let's do some more stuff with that!"
   ]
  },
  {
   "cell_type": "code",
   "execution_count": 13,
   "metadata": {},
   "outputs": [],
   "source": [
    "breed_counts = breeds.value_counts()"
   ]
  },
  {
   "cell_type": "markdown",
   "metadata": {},
   "source": [
    "Now we have another variable, called `breed_counts`. This is another Series object, but it's a little bit different than `breeds`, because its index is a list of dog breeds, not just row numbers. That changes how we can interact with it in a few ways, which we won't get into yet.\n",
    "\n",
    "Instead, let's focus on something else. Dog breeds contains numeric data, which means we can access some more `Series` functions:"
   ]
  },
  {
   "cell_type": "code",
   "execution_count": 14,
   "metadata": {},
   "outputs": [
    {
     "data": {
      "text/plain": [
       "97462"
      ]
     },
     "execution_count": 14,
     "metadata": {},
     "output_type": "execute_result"
    }
   ],
   "source": [
    "breed_counts.sum()"
   ]
  },
  {
   "cell_type": "code",
   "execution_count": 15,
   "metadata": {},
   "outputs": [
    {
     "data": {
      "text/plain": [
       "334.9209621993127"
      ]
     },
     "execution_count": 15,
     "metadata": {},
     "output_type": "execute_result"
    }
   ],
   "source": [
    "breed_counts.mean()"
   ]
  },
  {
   "cell_type": "code",
   "execution_count": 16,
   "metadata": {},
   "outputs": [
    {
     "data": {
      "text/plain": [
       "43.0"
      ]
     },
     "execution_count": 16,
     "metadata": {},
     "output_type": "execute_result"
    }
   ],
   "source": [
    "breed_counts.median()"
   ]
  },
  {
   "cell_type": "code",
   "execution_count": 17,
   "metadata": {},
   "outputs": [
    {
     "data": {
      "text/plain": [
       "count      291.000000\n",
       "mean       334.920962\n",
       "std       1107.333765\n",
       "min          1.000000\n",
       "25%          6.000000\n",
       "50%         43.000000\n",
       "75%        247.500000\n",
       "max      14000.000000\n",
       "Name: Breed, dtype: float64"
      ]
     },
     "execution_count": 17,
     "metadata": {},
     "output_type": "execute_result"
    }
   ],
   "source": [
    "breed_counts.describe()"
   ]
  },
  {
   "cell_type": "markdown",
   "metadata": {},
   "source": [
    "One more thing: Operations on `Series` objects are almost always carried out row-wise. That means that whatever you do to them, it does to each element in the Series. Observe:"
   ]
  },
  {
   "cell_type": "code",
   "execution_count": 18,
   "metadata": {
    "scrolled": true
   },
   "outputs": [
    {
     "data": {
      "text/plain": [
       "MIXED                    0.143646\n",
       "LABRADOR RETRIEVER       0.085100\n",
       "LAB MIX                  0.057202\n",
       "GOLDEN RETRIEVER         0.036589\n",
       "BEAGLE                   0.033233\n",
       "GER SHEPHERD             0.030463\n",
       "AM PIT BULL TERRIER      0.030463\n",
       "SHIH TZU                 0.023076\n",
       "BOXER                    0.021855\n",
       "GER SHEPHERD MIX         0.021598\n",
       "CHIHUAHUA                0.019105\n",
       "DACHSHUND                0.019002\n",
       "YORKSHIRE TERRIER        0.017443\n",
       "BEAGLE MIX               0.015226\n",
       "COCKER SPANIEL           0.014867\n",
       "PUG                      0.013800\n",
       "ROTTWEILER               0.013144\n",
       "PARSON RUSSELL TERR      0.012569\n",
       "BICHON FRISE             0.011841\n",
       "SHETLAND SHEEPDOG        0.011317\n",
       "MALTESE                  0.010722\n",
       "SIB HUSKY                0.010517\n",
       "TERRIER MIX              0.009809\n",
       "POMERANIAN               0.008650\n",
       "AM PITT BULL MIX         0.007706\n",
       "SCHNAUZER MIN            0.007418\n",
       "DOBERMAN PINSCHER        0.007346\n",
       "BOSTON TERRIER           0.007336\n",
       "COCKAPOO                 0.007264\n",
       "BORD COLLIE              0.006874\n",
       "                           ...   \n",
       "W SHEPHERD /GER SHEPH    0.000010\n",
       "OTTERHOUND               0.000010\n",
       "ALASKAN SHEPHERD         0.000010\n",
       "MIN BULL TERRIER         0.000010\n",
       "PERRO DE PRESA CANA      0.000010\n",
       "ALAPAHA BLUE BULLDO      0.000010\n",
       "W SIBERIAN LAIKA         0.000010\n",
       "XOLOITZCUINTLI           0.000010\n",
       "BEAGLE HARRIER           0.000010\n",
       "PYRENEAN MASTIFF         0.000010\n",
       "CATALAN SHEEPDOG         0.000010\n",
       "TREEING CUR              0.000010\n",
       "PRESSA MALLORQUIN        0.000010\n",
       "POLISH TATRA SHEEPDO     0.000010\n",
       "PORT WIREHAIR PODENG     0.000010\n",
       "CRENTSE PARTRIDGE D      0.000010\n",
       "BRACCO ITALIANO          0.000010\n",
       "GREYHOUND SPANISH        0.000010\n",
       "PUPPY                    0.000010\n",
       "JINDO                    0.000010\n",
       "PYRENEAN SHEPHERD        0.000010\n",
       "CHINOOK                  0.000010\n",
       "FINNISH SPITZ            0.000010\n",
       "BELG LAEKENOIS           0.000010\n",
       "THAI RIDGEBACK           0.000010\n",
       "MULLINS FEIST            0.000010\n",
       "TRANSYLVANIAN HOUND      0.000010\n",
       "SEALYHAM TERRIER         0.000010\n",
       "PHARAOH HOUND            0.000010\n",
       "MASTIFF SPANISH          0.000010\n",
       "Name: Breed, Length: 291, dtype: float64"
      ]
     },
     "execution_count": 18,
     "metadata": {},
     "output_type": "execute_result"
    }
   ],
   "source": [
    "breed_counts/breed_counts.sum()"
   ]
  },
  {
   "cell_type": "code",
   "execution_count": 19,
   "metadata": {
    "scrolled": true
   },
   "outputs": [
    {
     "data": {
      "text/plain": [
       "0        AM PIT BULL TERRIER = GOOD DOG\n",
       "1        AM PIT BULL TERRIER = GOOD DOG\n",
       "2                      MIXED = GOOD DOG\n",
       "3          DOBERMAN PINSCHER = GOOD DOG\n",
       "4                      MIXED = GOOD DOG\n",
       "5                      MIXED = GOOD DOG\n",
       "6                RAT TERRIER = GOOD DOG\n",
       "7               GER SHEPHERD = GOOD DOG\n",
       "8                 POMERANIAN = GOOD DOG\n",
       "9                     BEAGLE = GOOD DOG\n",
       "10                    BEAGLE = GOOD DOG\n",
       "11             AM ESKIMO DOG = GOOD DOG\n",
       "12                COLLIE MIX = GOOD DOG\n",
       "13              GER SHEPHERD = GOOD DOG\n",
       "14                 SIB HUSKY = GOOD DOG\n",
       "15                     BOXER = GOOD DOG\n",
       "16                     MIXED = GOOD DOG\n",
       "17              AUS SHEPHERD = GOOD DOG\n",
       "18             CHIHUAHUA MIX = GOOD DOG\n",
       "19                 BOXER MIX = GOOD DOG\n",
       "20             SILKY TERRIER = GOOD DOG\n",
       "21                  SHIH TZU = GOOD DOG\n",
       "22              MIN PINSCHER = GOOD DOG\n",
       "23                   TERRIER = GOOD DOG\n",
       "24               RAT TERRIER = GOOD DOG\n",
       "25                 DACHSHUND = GOOD DOG\n",
       "26              BICHON FRISE = GOOD DOG\n",
       "27        LABRADOR RETRIEVER = GOOD DOG\n",
       "28              GER SHEPHERD = GOOD DOG\n",
       "29                   LAB MIX = GOOD DOG\n",
       "                      ...              \n",
       "97432      YORKSHIRE TERRIER = GOOD DOG\n",
       "97433             WEIMARANER = GOOD DOG\n",
       "97434                 BEAGLE = GOOD DOG\n",
       "97435                  MIXED = GOOD DOG\n",
       "97436    PARSON RUSSELL TERR = GOOD DOG\n",
       "97437     LABRADOR RETRIEVER = GOOD DOG\n",
       "97438                  MIXED = GOOD DOG\n",
       "97439          WELSH TERRIER = GOOD DOG\n",
       "97440       GER SHEPHERD MIX = GOOD DOG\n",
       "97441     LABRADOR RETRIEVER = GOOD DOG\n",
       "97442                  MIXED = GOOD DOG\n",
       "97443                  MIXED = GOOD DOG\n",
       "97444             BEAGLE MIX = GOOD DOG\n",
       "97445               SHIH TZU = GOOD DOG\n",
       "97446                  MIXED = GOOD DOG\n",
       "97447                  MIXED = GOOD DOG\n",
       "97448                 BEAGLE = GOOD DOG\n",
       "97449     LABRADOR RETRIEVER = GOOD DOG\n",
       "97450        CHINESE CRESTED = GOOD DOG\n",
       "97451        CHINESE CRESTED = GOOD DOG\n",
       "97452        CHINESE CRESTED = GOOD DOG\n",
       "97453        CHINESE CRESTED = GOOD DOG\n",
       "97454        CHINESE CRESTED = GOOD DOG\n",
       "97455           BASSET HOUND = GOOD DOG\n",
       "97456           BICHON FRISE = GOOD DOG\n",
       "97457                  MIXED = GOOD DOG\n",
       "97458       AIREDALE TERRIER = GOOD DOG\n",
       "97459                MASTIFF = GOOD DOG\n",
       "97460                 BEAGLE = GOOD DOG\n",
       "97461              DALMATIAN = GOOD DOG\n",
       "Name: Breed, Length: 97462, dtype: object"
      ]
     },
     "execution_count": 19,
     "metadata": {},
     "output_type": "execute_result"
    }
   ],
   "source": [
    "breeds + ' = GOOD DOG'"
   ]
  },
  {
   "cell_type": "code",
   "execution_count": 20,
   "metadata": {
    "scrolled": true
   },
   "outputs": [
    {
     "data": {
      "text/plain": [
       "0        False\n",
       "1        False\n",
       "2         True\n",
       "3        False\n",
       "4         True\n",
       "5         True\n",
       "6        False\n",
       "7        False\n",
       "8        False\n",
       "9        False\n",
       "10       False\n",
       "11       False\n",
       "12       False\n",
       "13       False\n",
       "14       False\n",
       "15       False\n",
       "16        True\n",
       "17       False\n",
       "18       False\n",
       "19       False\n",
       "20       False\n",
       "21       False\n",
       "22       False\n",
       "23       False\n",
       "24       False\n",
       "25       False\n",
       "26       False\n",
       "27       False\n",
       "28       False\n",
       "29       False\n",
       "         ...  \n",
       "97432    False\n",
       "97433    False\n",
       "97434    False\n",
       "97435     True\n",
       "97436    False\n",
       "97437    False\n",
       "97438     True\n",
       "97439    False\n",
       "97440    False\n",
       "97441    False\n",
       "97442     True\n",
       "97443     True\n",
       "97444    False\n",
       "97445    False\n",
       "97446     True\n",
       "97447     True\n",
       "97448    False\n",
       "97449    False\n",
       "97450    False\n",
       "97451    False\n",
       "97452    False\n",
       "97453    False\n",
       "97454    False\n",
       "97455    False\n",
       "97456    False\n",
       "97457     True\n",
       "97458    False\n",
       "97459    False\n",
       "97460    False\n",
       "97461    False\n",
       "Name: Breed, Length: 97462, dtype: bool"
      ]
     },
     "execution_count": 20,
     "metadata": {},
     "output_type": "execute_result"
    }
   ],
   "source": [
    "breeds == 'MIXED'"
   ]
  },
  {
   "cell_type": "markdown",
   "metadata": {},
   "source": [
    "This last one is important! When you compare a Series using `=`, `>`, `<` etc. it returns a Series object with `True` or `False` for each element in the Series. That's going to come in handy later."
   ]
  },
  {
   "cell_type": "markdown",
   "metadata": {},
   "source": [
    "### Problem Three\n",
    "\n",
    "* What is the most common colour of dog?\n",
    "* What is the average number of dogs per zip code?"
   ]
  },
  {
   "cell_type": "markdown",
   "metadata": {},
   "source": [
    "## Creating New Columns\n",
    "\n",
    "This might not be essential right now, but I promise you it will become useful later on. You can create new columns in a `DataFrame` just by assigning a value to a new column name."
   ]
  },
  {
   "cell_type": "code",
   "execution_count": 21,
   "metadata": {},
   "outputs": [],
   "source": [
    "df['row_count'] = 1"
   ]
  },
  {
   "cell_type": "code",
   "execution_count": 22,
   "metadata": {},
   "outputs": [
    {
     "data": {
      "text/html": [
       "<div>\n",
       "<style scoped>\n",
       "    .dataframe tbody tr th:only-of-type {\n",
       "        vertical-align: middle;\n",
       "    }\n",
       "\n",
       "    .dataframe tbody tr th {\n",
       "        vertical-align: top;\n",
       "    }\n",
       "\n",
       "    .dataframe thead th {\n",
       "        text-align: right;\n",
       "    }\n",
       "</style>\n",
       "<table border=\"1\" class=\"dataframe\">\n",
       "  <thead>\n",
       "    <tr style=\"text-align: right;\">\n",
       "      <th></th>\n",
       "      <th>LicenseType</th>\n",
       "      <th>Breed</th>\n",
       "      <th>Color</th>\n",
       "      <th>DogName</th>\n",
       "      <th>OwnerZip</th>\n",
       "      <th>ExpYear</th>\n",
       "      <th>ValidDate</th>\n",
       "      <th>row_count</th>\n",
       "    </tr>\n",
       "  </thead>\n",
       "  <tbody>\n",
       "    <tr>\n",
       "      <th>0</th>\n",
       "      <td>Dog Individual Female</td>\n",
       "      <td>AM PIT BULL TERRIER</td>\n",
       "      <td>SPOTTED</td>\n",
       "      <td>BUTTER</td>\n",
       "      <td>15001</td>\n",
       "      <td>2007</td>\n",
       "      <td>5/1/2007 15:15</td>\n",
       "      <td>1</td>\n",
       "    </tr>\n",
       "    <tr>\n",
       "      <th>1</th>\n",
       "      <td>Dog Individual Female</td>\n",
       "      <td>AM PIT BULL TERRIER</td>\n",
       "      <td>BROWN</td>\n",
       "      <td>SABLE</td>\n",
       "      <td>15001</td>\n",
       "      <td>2007</td>\n",
       "      <td>5/1/2007 15:15</td>\n",
       "      <td>1</td>\n",
       "    </tr>\n",
       "    <tr>\n",
       "      <th>2</th>\n",
       "      <td>Dog Individual Neutered Male</td>\n",
       "      <td>MIXED</td>\n",
       "      <td>.</td>\n",
       "      <td>YIP</td>\n",
       "      <td>15001</td>\n",
       "      <td>2007</td>\n",
       "      <td>4/11/2007 15:14</td>\n",
       "      <td>1</td>\n",
       "    </tr>\n",
       "    <tr>\n",
       "      <th>3</th>\n",
       "      <td>Dog Individual Male</td>\n",
       "      <td>DOBERMAN PINSCHER</td>\n",
       "      <td>RED</td>\n",
       "      <td>SABER</td>\n",
       "      <td>15003</td>\n",
       "      <td>2007</td>\n",
       "      <td>4/5/2007 15:00</td>\n",
       "      <td>1</td>\n",
       "    </tr>\n",
       "    <tr>\n",
       "      <th>4</th>\n",
       "      <td>Dog Individual Spayed Female</td>\n",
       "      <td>MIXED</td>\n",
       "      <td>BLACK</td>\n",
       "      <td>DAISY</td>\n",
       "      <td>15003</td>\n",
       "      <td>2007</td>\n",
       "      <td>5/25/2007 12:15</td>\n",
       "      <td>1</td>\n",
       "    </tr>\n",
       "  </tbody>\n",
       "</table>\n",
       "</div>"
      ],
      "text/plain": [
       "                    LicenseType                Breed    Color DogName  \\\n",
       "0         Dog Individual Female  AM PIT BULL TERRIER  SPOTTED  BUTTER   \n",
       "1         Dog Individual Female  AM PIT BULL TERRIER    BROWN   SABLE   \n",
       "2  Dog Individual Neutered Male                MIXED        .     YIP   \n",
       "3           Dog Individual Male    DOBERMAN PINSCHER      RED   SABER   \n",
       "4  Dog Individual Spayed Female                MIXED    BLACK   DAISY   \n",
       "\n",
       "   OwnerZip  ExpYear        ValidDate  row_count  \n",
       "0     15001     2007   5/1/2007 15:15          1  \n",
       "1     15001     2007   5/1/2007 15:15          1  \n",
       "2     15001     2007  4/11/2007 15:14          1  \n",
       "3     15003     2007   4/5/2007 15:00          1  \n",
       "4     15003     2007  5/25/2007 12:15          1  "
      ]
     },
     "execution_count": 22,
     "metadata": {},
     "output_type": "execute_result"
    }
   ],
   "source": [
    "df.head()"
   ]
  },
  {
   "cell_type": "markdown",
   "metadata": {},
   "source": [
    "A \"row count\" column can come in handy for a lot of more complex operations later on. It's not exactly essential, but it can make your code a lot easier to understand.\n",
    "\n",
    "You can also create a column from any `Series` object that has the same index as your `DataFrame`."
   ]
  },
  {
   "cell_type": "code",
   "execution_count": 27,
   "metadata": {},
   "outputs": [],
   "source": [
    "df['lower_name'] = df['Breed'].str.lower() # Don't worry about what that \".str\" means for now.\n",
    "df['random_number'] = pd.Series(pd.np.random.randint(0, 10, size=len(df))) # Don't worry too much about what this is doing either"
   ]
  },
  {
   "cell_type": "code",
   "execution_count": 28,
   "metadata": {},
   "outputs": [
    {
     "data": {
      "text/html": [
       "<div>\n",
       "<style scoped>\n",
       "    .dataframe tbody tr th:only-of-type {\n",
       "        vertical-align: middle;\n",
       "    }\n",
       "\n",
       "    .dataframe tbody tr th {\n",
       "        vertical-align: top;\n",
       "    }\n",
       "\n",
       "    .dataframe thead th {\n",
       "        text-align: right;\n",
       "    }\n",
       "</style>\n",
       "<table border=\"1\" class=\"dataframe\">\n",
       "  <thead>\n",
       "    <tr style=\"text-align: right;\">\n",
       "      <th></th>\n",
       "      <th>LicenseType</th>\n",
       "      <th>Breed</th>\n",
       "      <th>Color</th>\n",
       "      <th>DogName</th>\n",
       "      <th>OwnerZip</th>\n",
       "      <th>ExpYear</th>\n",
       "      <th>ValidDate</th>\n",
       "      <th>row_count</th>\n",
       "      <th>lower_name</th>\n",
       "      <th>random_number</th>\n",
       "    </tr>\n",
       "  </thead>\n",
       "  <tbody>\n",
       "    <tr>\n",
       "      <th>0</th>\n",
       "      <td>Dog Individual Female</td>\n",
       "      <td>AM PIT BULL TERRIER</td>\n",
       "      <td>SPOTTED</td>\n",
       "      <td>BUTTER</td>\n",
       "      <td>15001</td>\n",
       "      <td>2007</td>\n",
       "      <td>5/1/2007 15:15</td>\n",
       "      <td>1</td>\n",
       "      <td>am pit bull terrier</td>\n",
       "      <td>1</td>\n",
       "    </tr>\n",
       "    <tr>\n",
       "      <th>1</th>\n",
       "      <td>Dog Individual Female</td>\n",
       "      <td>AM PIT BULL TERRIER</td>\n",
       "      <td>BROWN</td>\n",
       "      <td>SABLE</td>\n",
       "      <td>15001</td>\n",
       "      <td>2007</td>\n",
       "      <td>5/1/2007 15:15</td>\n",
       "      <td>1</td>\n",
       "      <td>am pit bull terrier</td>\n",
       "      <td>3</td>\n",
       "    </tr>\n",
       "    <tr>\n",
       "      <th>2</th>\n",
       "      <td>Dog Individual Neutered Male</td>\n",
       "      <td>MIXED</td>\n",
       "      <td>.</td>\n",
       "      <td>YIP</td>\n",
       "      <td>15001</td>\n",
       "      <td>2007</td>\n",
       "      <td>4/11/2007 15:14</td>\n",
       "      <td>1</td>\n",
       "      <td>mixed</td>\n",
       "      <td>1</td>\n",
       "    </tr>\n",
       "    <tr>\n",
       "      <th>3</th>\n",
       "      <td>Dog Individual Male</td>\n",
       "      <td>DOBERMAN PINSCHER</td>\n",
       "      <td>RED</td>\n",
       "      <td>SABER</td>\n",
       "      <td>15003</td>\n",
       "      <td>2007</td>\n",
       "      <td>4/5/2007 15:00</td>\n",
       "      <td>1</td>\n",
       "      <td>doberman pinscher</td>\n",
       "      <td>4</td>\n",
       "    </tr>\n",
       "    <tr>\n",
       "      <th>4</th>\n",
       "      <td>Dog Individual Spayed Female</td>\n",
       "      <td>MIXED</td>\n",
       "      <td>BLACK</td>\n",
       "      <td>DAISY</td>\n",
       "      <td>15003</td>\n",
       "      <td>2007</td>\n",
       "      <td>5/25/2007 12:15</td>\n",
       "      <td>1</td>\n",
       "      <td>mixed</td>\n",
       "      <td>0</td>\n",
       "    </tr>\n",
       "  </tbody>\n",
       "</table>\n",
       "</div>"
      ],
      "text/plain": [
       "                    LicenseType                Breed    Color DogName  \\\n",
       "0         Dog Individual Female  AM PIT BULL TERRIER  SPOTTED  BUTTER   \n",
       "1         Dog Individual Female  AM PIT BULL TERRIER    BROWN   SABLE   \n",
       "2  Dog Individual Neutered Male                MIXED        .     YIP   \n",
       "3           Dog Individual Male    DOBERMAN PINSCHER      RED   SABER   \n",
       "4  Dog Individual Spayed Female                MIXED    BLACK   DAISY   \n",
       "\n",
       "   OwnerZip  ExpYear        ValidDate  row_count           lower_name  \\\n",
       "0     15001     2007   5/1/2007 15:15          1  am pit bull terrier   \n",
       "1     15001     2007   5/1/2007 15:15          1  am pit bull terrier   \n",
       "2     15001     2007  4/11/2007 15:14          1                mixed   \n",
       "3     15003     2007   4/5/2007 15:00          1    doberman pinscher   \n",
       "4     15003     2007  5/25/2007 12:15          1                mixed   \n",
       "\n",
       "   random_number  \n",
       "0              1  \n",
       "1              3  \n",
       "2              1  \n",
       "3              4  \n",
       "4              0  "
      ]
     },
     "execution_count": 28,
     "metadata": {},
     "output_type": "execute_result"
    }
   ],
   "source": [
    "df.head()"
   ]
  },
  {
   "cell_type": "markdown",
   "metadata": {},
   "source": [
    "### Problem Four\n",
    "\n",
    "* Make a column in `df` that indicates whether the dog's Breed is \"MIXED\".\n",
    "* EXTRA FOR EXPERTS: Make a column in `df` that indicates whether the dog is male or female"
   ]
  },
  {
   "cell_type": "code",
   "execution_count": null,
   "metadata": {},
   "outputs": [],
   "source": []
  }
 ],
 "metadata": {
  "kernelspec": {
   "display_name": "Python 3",
   "language": "python",
   "name": "python3"
  },
  "language_info": {
   "codemirror_mode": {
    "name": "ipython",
    "version": 3
   },
   "file_extension": ".py",
   "mimetype": "text/x-python",
   "name": "python",
   "nbconvert_exporter": "python",
   "pygments_lexer": "ipython3",
   "version": "3.7.4"
  }
 },
 "nbformat": 4,
 "nbformat_minor": 2
}
